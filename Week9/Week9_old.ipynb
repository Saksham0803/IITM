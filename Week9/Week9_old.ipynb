{
 "cells": [
  {
   "cell_type": "code",
   "execution_count": 3,
   "id": "459287e0-0e8a-4c8a-b3dd-03d430a9234a",
   "metadata": {
    "scrolled": true
   },
   "outputs": [
    {
     "name": "stdout",
     "output_type": "stream",
     "text": [
      "Collecting fairlearn\n",
      "  Downloading fairlearn-0.12.0-py3-none-any.whl.metadata (7.0 kB)\n",
      "Requirement already satisfied: numpy>=1.24.4 in /opt/conda/lib/python3.10/site-packages (from fairlearn) (1.26.4)\n",
      "Requirement already satisfied: pandas>=2.0.3 in /opt/conda/lib/python3.10/site-packages (from fairlearn) (2.3.0)\n",
      "Requirement already satisfied: scikit-learn>=1.2.1 in /opt/conda/lib/python3.10/site-packages (from fairlearn) (1.4.2)\n",
      "Requirement already satisfied: scipy>=1.9.3 in /opt/conda/lib/python3.10/site-packages (from fairlearn) (1.11.4)\n",
      "Requirement already satisfied: python-dateutil>=2.8.2 in /opt/conda/lib/python3.10/site-packages (from pandas>=2.0.3->fairlearn) (2.9.0.post0)\n",
      "Requirement already satisfied: pytz>=2020.1 in /opt/conda/lib/python3.10/site-packages (from pandas>=2.0.3->fairlearn) (2025.2)\n",
      "Requirement already satisfied: tzdata>=2022.7 in /opt/conda/lib/python3.10/site-packages (from pandas>=2.0.3->fairlearn) (2025.2)\n",
      "Requirement already satisfied: joblib>=1.2.0 in /opt/conda/lib/python3.10/site-packages (from scikit-learn>=1.2.1->fairlearn) (1.5.1)\n",
      "Requirement already satisfied: threadpoolctl>=2.0.0 in /opt/conda/lib/python3.10/site-packages (from scikit-learn>=1.2.1->fairlearn) (3.6.0)\n",
      "Requirement already satisfied: six>=1.5 in /opt/conda/lib/python3.10/site-packages (from python-dateutil>=2.8.2->pandas>=2.0.3->fairlearn) (1.17.0)\n",
      "Downloading fairlearn-0.12.0-py3-none-any.whl (240 kB)\n",
      "Installing collected packages: fairlearn\n",
      "Successfully installed fairlearn-0.12.0\n"
     ]
    }
   ],
   "source": [
    "!pip install fairlearn"
   ]
  },
  {
   "cell_type": "code",
   "execution_count": 4,
   "id": "f2dc590f-3875-42fd-afa0-105fc5fc8ef4",
   "metadata": {},
   "outputs": [
    {
     "name": "stdout",
     "output_type": "stream",
     "text": [
      "Collecting shap\n",
      "  Downloading shap-0.48.0-cp310-cp310-manylinux_2_17_x86_64.manylinux2014_x86_64.whl.metadata (25 kB)\n",
      "Requirement already satisfied: numpy in /opt/conda/lib/python3.10/site-packages (from shap) (1.26.4)\n",
      "Requirement already satisfied: scipy in /opt/conda/lib/python3.10/site-packages (from shap) (1.11.4)\n",
      "Requirement already satisfied: scikit-learn in /opt/conda/lib/python3.10/site-packages (from shap) (1.4.2)\n",
      "Requirement already satisfied: pandas in /opt/conda/lib/python3.10/site-packages (from shap) (2.3.0)\n",
      "Requirement already satisfied: tqdm>=4.27.0 in /opt/conda/lib/python3.10/site-packages (from shap) (4.67.1)\n",
      "Requirement already satisfied: packaging>20.9 in /opt/conda/lib/python3.10/site-packages (from shap) (24.2)\n",
      "Collecting slicer==0.0.8 (from shap)\n",
      "  Downloading slicer-0.0.8-py3-none-any.whl.metadata (4.0 kB)\n",
      "Requirement already satisfied: numba>=0.54 in /opt/conda/lib/python3.10/site-packages (from shap) (0.61.0)\n",
      "Requirement already satisfied: cloudpickle in /opt/conda/lib/python3.10/site-packages (from shap) (3.1.1)\n",
      "Requirement already satisfied: typing-extensions in /opt/conda/lib/python3.10/site-packages (from shap) (4.13.0)\n",
      "Requirement already satisfied: llvmlite<0.45,>=0.44.0dev0 in /opt/conda/lib/python3.10/site-packages (from numba>=0.54->shap) (0.44.0)\n",
      "Requirement already satisfied: python-dateutil>=2.8.2 in /opt/conda/lib/python3.10/site-packages (from pandas->shap) (2.9.0.post0)\n",
      "Requirement already satisfied: pytz>=2020.1 in /opt/conda/lib/python3.10/site-packages (from pandas->shap) (2025.2)\n",
      "Requirement already satisfied: tzdata>=2022.7 in /opt/conda/lib/python3.10/site-packages (from pandas->shap) (2025.2)\n",
      "Requirement already satisfied: joblib>=1.2.0 in /opt/conda/lib/python3.10/site-packages (from scikit-learn->shap) (1.5.1)\n",
      "Requirement already satisfied: threadpoolctl>=2.0.0 in /opt/conda/lib/python3.10/site-packages (from scikit-learn->shap) (3.6.0)\n",
      "Requirement already satisfied: six>=1.5 in /opt/conda/lib/python3.10/site-packages (from python-dateutil>=2.8.2->pandas->shap) (1.17.0)\n",
      "Downloading shap-0.48.0-cp310-cp310-manylinux_2_17_x86_64.manylinux2014_x86_64.whl (996 kB)\n",
      "\u001b[2K   \u001b[90m━━━━━━━━━━━━━━━━━━━━━━━━━━━━━━━━━━━━━━━━\u001b[0m \u001b[32m996.4/996.4 kB\u001b[0m \u001b[31m17.6 MB/s\u001b[0m eta \u001b[36m0:00:00\u001b[0m\n",
      "\u001b[?25hDownloading slicer-0.0.8-py3-none-any.whl (15 kB)\n",
      "Installing collected packages: slicer, shap\n",
      "Successfully installed shap-0.48.0 slicer-0.0.8\n"
     ]
    }
   ],
   "source": [
    "!pip install shap"
   ]
  },
  {
   "cell_type": "code",
   "execution_count": 5,
   "id": "70eeea88",
   "metadata": {},
   "outputs": [],
   "source": [
    "\n",
    "import numpy as np\n",
    "import pandas as pd\n",
    "from pathlib import Path\n",
    "\n",
    "import matplotlib.pyplot as plt\n",
    "\n",
    "from sklearn.model_selection import train_test_split\n",
    "from sklearn.preprocessing import StandardScaler\n",
    "from sklearn.pipeline import Pipeline\n",
    "from sklearn.metrics import accuracy_score, roc_auc_score, classification_report\n",
    "from sklearn.compose import ColumnTransformer\n",
    "from sklearn.ensemble import RandomForestClassifier\n",
    "\n",
    "from fairlearn.metrics import MetricFrame, selection_rate, true_positive_rate, false_positive_rate, demographic_parity_difference, equalized_odds_difference\n",
    "\n",
    "import shap\n",
    "\n",
    "RANDOM_STATE = 42\n",
    "np.random.seed(RANDOM_STATE)\n"
   ]
  },
  {
   "cell_type": "code",
   "execution_count": 6,
   "id": "96150ebd",
   "metadata": {},
   "outputs": [
    {
     "data": {
      "text/html": [
       "<div>\n",
       "<style scoped>\n",
       "    .dataframe tbody tr th:only-of-type {\n",
       "        vertical-align: middle;\n",
       "    }\n",
       "\n",
       "    .dataframe tbody tr th {\n",
       "        vertical-align: top;\n",
       "    }\n",
       "\n",
       "    .dataframe thead th {\n",
       "        text-align: right;\n",
       "    }\n",
       "</style>\n",
       "<table border=\"1\" class=\"dataframe\">\n",
       "  <thead>\n",
       "    <tr style=\"text-align: right;\">\n",
       "      <th></th>\n",
       "      <th>sepal_length</th>\n",
       "      <th>sepal_width</th>\n",
       "      <th>petal_length</th>\n",
       "      <th>petal_width</th>\n",
       "      <th>species</th>\n",
       "    </tr>\n",
       "  </thead>\n",
       "  <tbody>\n",
       "    <tr>\n",
       "      <th>0</th>\n",
       "      <td>5.1</td>\n",
       "      <td>3.5</td>\n",
       "      <td>1.4</td>\n",
       "      <td>0.2</td>\n",
       "      <td>setosa</td>\n",
       "    </tr>\n",
       "    <tr>\n",
       "      <th>1</th>\n",
       "      <td>4.9</td>\n",
       "      <td>3.0</td>\n",
       "      <td>1.4</td>\n",
       "      <td>0.2</td>\n",
       "      <td>setosa</td>\n",
       "    </tr>\n",
       "    <tr>\n",
       "      <th>2</th>\n",
       "      <td>4.7</td>\n",
       "      <td>3.2</td>\n",
       "      <td>1.3</td>\n",
       "      <td>0.2</td>\n",
       "      <td>setosa</td>\n",
       "    </tr>\n",
       "    <tr>\n",
       "      <th>3</th>\n",
       "      <td>4.6</td>\n",
       "      <td>3.1</td>\n",
       "      <td>1.5</td>\n",
       "      <td>0.2</td>\n",
       "      <td>setosa</td>\n",
       "    </tr>\n",
       "    <tr>\n",
       "      <th>4</th>\n",
       "      <td>5.0</td>\n",
       "      <td>3.6</td>\n",
       "      <td>1.4</td>\n",
       "      <td>0.2</td>\n",
       "      <td>setosa</td>\n",
       "    </tr>\n",
       "  </tbody>\n",
       "</table>\n",
       "</div>"
      ],
      "text/plain": [
       "   sepal_length  sepal_width  petal_length  petal_width species\n",
       "0           5.1          3.5           1.4          0.2  setosa\n",
       "1           4.9          3.0           1.4          0.2  setosa\n",
       "2           4.7          3.2           1.3          0.2  setosa\n",
       "3           4.6          3.1           1.5          0.2  setosa\n",
       "4           5.0          3.6           1.4          0.2  setosa"
      ]
     },
     "execution_count": 6,
     "metadata": {},
     "output_type": "execute_result"
    }
   ],
   "source": [
    "\n",
    "csv_path = Path('iris.csv')\n",
    "if csv_path.exists():\n",
    "    df = pd.read_csv(csv_path)\n",
    "else:\n",
    "    from sklearn.datasets import load_iris\n",
    "    iris = load_iris(as_frame=True)\n",
    "    df = iris.frame.rename(columns={\n",
    "        'sepal length (cm)': 'sepal_length',\n",
    "        'sepal width (cm)': 'sepal_width',\n",
    "        'petal length (cm)': 'petal_length',\n",
    "        'petal width (cm)': 'petal_width',\n",
    "        'target': 'species'\n",
    "    })\n",
    "    # Map species index to names for readability\n",
    "    target_names = dict(enumerate(iris.target_names))\n",
    "    df['species'] = df['species'].map(target_names)\n",
    "\n",
    "df.head()\n"
   ]
  },
  {
   "cell_type": "markdown",
   "id": "04606c63",
   "metadata": {},
   "source": [
    "\n",
    "## 2) Add a random binary `location` attribute\n",
    "\n",
    "We assign values **0** or **1** at random (uniformly) to simulate a sensitive attribute.\n"
   ]
  },
  {
   "cell_type": "code",
   "execution_count": 7,
   "id": "99766280",
   "metadata": {},
   "outputs": [
    {
     "data": {
      "text/html": [
       "<div>\n",
       "<style scoped>\n",
       "    .dataframe tbody tr th:only-of-type {\n",
       "        vertical-align: middle;\n",
       "    }\n",
       "\n",
       "    .dataframe tbody tr th {\n",
       "        vertical-align: top;\n",
       "    }\n",
       "\n",
       "    .dataframe thead th {\n",
       "        text-align: right;\n",
       "    }\n",
       "</style>\n",
       "<table border=\"1\" class=\"dataframe\">\n",
       "  <thead>\n",
       "    <tr style=\"text-align: right;\">\n",
       "      <th></th>\n",
       "      <th>sepal_length</th>\n",
       "      <th>sepal_width</th>\n",
       "      <th>petal_length</th>\n",
       "      <th>petal_width</th>\n",
       "      <th>species</th>\n",
       "      <th>location</th>\n",
       "    </tr>\n",
       "  </thead>\n",
       "  <tbody>\n",
       "    <tr>\n",
       "      <th>0</th>\n",
       "      <td>5.1</td>\n",
       "      <td>3.5</td>\n",
       "      <td>1.4</td>\n",
       "      <td>0.2</td>\n",
       "      <td>setosa</td>\n",
       "      <td>0</td>\n",
       "    </tr>\n",
       "    <tr>\n",
       "      <th>1</th>\n",
       "      <td>4.9</td>\n",
       "      <td>3.0</td>\n",
       "      <td>1.4</td>\n",
       "      <td>0.2</td>\n",
       "      <td>setosa</td>\n",
       "      <td>1</td>\n",
       "    </tr>\n",
       "    <tr>\n",
       "      <th>2</th>\n",
       "      <td>4.7</td>\n",
       "      <td>3.2</td>\n",
       "      <td>1.3</td>\n",
       "      <td>0.2</td>\n",
       "      <td>setosa</td>\n",
       "      <td>0</td>\n",
       "    </tr>\n",
       "    <tr>\n",
       "      <th>3</th>\n",
       "      <td>4.6</td>\n",
       "      <td>3.1</td>\n",
       "      <td>1.5</td>\n",
       "      <td>0.2</td>\n",
       "      <td>setosa</td>\n",
       "      <td>0</td>\n",
       "    </tr>\n",
       "    <tr>\n",
       "      <th>4</th>\n",
       "      <td>5.0</td>\n",
       "      <td>3.6</td>\n",
       "      <td>1.4</td>\n",
       "      <td>0.2</td>\n",
       "      <td>setosa</td>\n",
       "      <td>0</td>\n",
       "    </tr>\n",
       "  </tbody>\n",
       "</table>\n",
       "</div>"
      ],
      "text/plain": [
       "   sepal_length  sepal_width  petal_length  petal_width species  location\n",
       "0           5.1          3.5           1.4          0.2  setosa         0\n",
       "1           4.9          3.0           1.4          0.2  setosa         1\n",
       "2           4.7          3.2           1.3          0.2  setosa         0\n",
       "3           4.6          3.1           1.5          0.2  setosa         0\n",
       "4           5.0          3.6           1.4          0.2  setosa         0"
      ]
     },
     "execution_count": 7,
     "metadata": {},
     "output_type": "execute_result"
    }
   ],
   "source": [
    "\n",
    "n = len(df)\n",
    "df['location'] = np.random.randint(0, 2, size=n)  # 0 or 1 at random\n",
    "df['location'] = df['location'].astype(int)\n",
    "df.head()\n"
   ]
  },
  {
   "cell_type": "markdown",
   "id": "b962af3c",
   "metadata": {},
   "source": [
    "\n",
    "## 3) Train/validation split and preprocessing\n"
   ]
  },
  {
   "cell_type": "code",
   "execution_count": 9,
   "id": "7016f0e6",
   "metadata": {},
   "outputs": [
    {
     "name": "stdout",
     "output_type": "stream",
     "text": [
      "Accuracy: 0.947\n",
      "\n",
      "Classification report:\n",
      "               precision    recall  f1-score   support\n",
      "\n",
      "      setosa       1.00      1.00      1.00        12\n",
      "  versicolor       0.92      0.92      0.92        13\n",
      "   virginica       0.92      0.92      0.92        13\n",
      "\n",
      "    accuracy                           0.95        38\n",
      "   macro avg       0.95      0.95      0.95        38\n",
      "weighted avg       0.95      0.95      0.95        38\n",
      "\n"
     ]
    }
   ],
   "source": [
    "\n",
    "feature_cols = [c for c in df.columns if c not in ['species']]\n",
    "target_col = 'species'\n",
    "\n",
    "X = df[feature_cols].copy()\n",
    "y = df[target_col].copy()\n",
    "\n",
    "X_train, X_test, y_train, y_test = train_test_split(X, y, test_size=0.25, random_state=RANDOM_STATE, stratify=y)\n",
    "\n",
    "numeric_cols = ['sepal_length','sepal_width','petal_length','petal_width']\n",
    "all_numeric = numeric_cols + ['location']\n",
    "\n",
    "preprocess = ColumnTransformer(\n",
    "    transformers=[\n",
    "        ('num', StandardScaler(), all_numeric),\n",
    "    ],\n",
    "    remainder='drop'\n",
    ")\n",
    "\n",
    "clf = RandomForestClassifier(\n",
    "    n_estimators=400,\n",
    "    max_depth=None,\n",
    "    random_state=RANDOM_STATE\n",
    ")\n",
    "\n",
    "pipe = Pipeline([('prep', preprocess),\n",
    "                 ('clf', clf)])\n",
    "\n",
    "pipe.fit(X_train, y_train)\n",
    "\n",
    "y_pred = pipe.predict(X_test)\n",
    "acc = accuracy_score(y_test, y_pred)\n",
    "print(f\"Accuracy: {acc:.3f}\")\n",
    "print(\"\\nClassification report:\\n\", classification_report(y_test, y_pred))\n"
   ]
  },
  {
   "cell_type": "markdown",
   "id": "39d56a64",
   "metadata": {},
   "source": [
    "\n",
    "## 4) Fairness evaluation with **Fairlearn**\n",
    "\n",
    "We'll treat **`location`** as the **sensitive feature** and examine metrics like:\n",
    "- **Selection rate** (how often the model predicts a given class)\n",
    "- **True Positive Rate** (Recall for the positive class in one-vs-rest setting)\n",
    "- **False Positive Rate**\n",
    "- **Demographic Parity Difference**\n",
    "- **Equalized Odds Difference**\n",
    "\n",
    "For multiclass Iris, we'll focus on **class `virginica`** (one-vs-rest). We compute probabilities and convert to a binary prediction for `virginica` vs. not-virginica.\n"
   ]
  },
  {
   "cell_type": "code",
   "execution_count": 10,
   "id": "169004d4",
   "metadata": {},
   "outputs": [
    {
     "name": "stdout",
     "output_type": "stream",
     "text": [
      "By-group metrics (location = 0 vs 1):\n"
     ]
    },
    {
     "data": {
      "text/html": [
       "<div>\n",
       "<style scoped>\n",
       "    .dataframe tbody tr th:only-of-type {\n",
       "        vertical-align: middle;\n",
       "    }\n",
       "\n",
       "    .dataframe tbody tr th {\n",
       "        vertical-align: top;\n",
       "    }\n",
       "\n",
       "    .dataframe thead th {\n",
       "        text-align: right;\n",
       "    }\n",
       "</style>\n",
       "<table border=\"1\" class=\"dataframe\">\n",
       "  <thead>\n",
       "    <tr style=\"text-align: right;\">\n",
       "      <th></th>\n",
       "      <th>selection_rate</th>\n",
       "      <th>tpr</th>\n",
       "      <th>fpr</th>\n",
       "    </tr>\n",
       "    <tr>\n",
       "      <th>location</th>\n",
       "      <th></th>\n",
       "      <th></th>\n",
       "      <th></th>\n",
       "    </tr>\n",
       "  </thead>\n",
       "  <tbody>\n",
       "    <tr>\n",
       "      <th>0</th>\n",
       "      <td>0.444444</td>\n",
       "      <td>1.0</td>\n",
       "      <td>0.000000</td>\n",
       "    </tr>\n",
       "    <tr>\n",
       "      <th>1</th>\n",
       "      <td>0.250000</td>\n",
       "      <td>0.8</td>\n",
       "      <td>0.066667</td>\n",
       "    </tr>\n",
       "  </tbody>\n",
       "</table>\n",
       "</div>"
      ],
      "text/plain": [
       "          selection_rate  tpr       fpr\n",
       "location                               \n",
       "0               0.444444  1.0  0.000000\n",
       "1               0.250000  0.8  0.066667"
      ]
     },
     "metadata": {},
     "output_type": "display_data"
    },
    {
     "name": "stdout",
     "output_type": "stream",
     "text": [
      "\n",
      "Demographic Parity Difference: 0.1944\n",
      "Equalized Odds Difference: 0.2000\n"
     ]
    }
   ],
   "source": [
    "\n",
    "\n",
    "is_virginica = (y_test == 'virginica').astype(int)\n",
    "\n",
    "\n",
    "proba = pipe.predict_proba(X_test)\n",
    "\n",
    "class_index = list(pipe.named_steps['clf'].classes_).index('virginica')\n",
    "virginica_proba = proba[:, class_index]\n",
    "\n",
    "\n",
    "virginica_pred = (virginica_proba >= 0.5).astype(int)\n",
    "\n",
    "\n",
    "sensitive_feature = X_test['location']\n",
    "\n",
    "\n",
    "metrics = {\n",
    "    'selection_rate': selection_rate,\n",
    "    'tpr': true_positive_rate,\n",
    "    'fpr': false_positive_rate,\n",
    "}\n",
    "\n",
    "mf = MetricFrame(metrics=metrics,\n",
    "                 y_true=is_virginica,\n",
    "                 y_pred=virginica_pred,\n",
    "                 sensitive_features=sensitive_feature)\n",
    "\n",
    "print(\"By-group metrics (location = 0 vs 1):\")\n",
    "display(mf.by_group)\n",
    "\n",
    "# Group fairness differences\n",
    "dp_diff = demographic_parity_difference(y_true=is_virginica,\n",
    "                                        y_pred=virginica_pred,\n",
    "                                        sensitive_features=sensitive_feature)\n",
    "eo_diff = equalized_odds_difference(y_true=is_virginica,\n",
    "                                    y_pred=virginica_pred,\n",
    "                                    sensitive_features=sensitive_feature)\n",
    "print(f\"\\nDemographic Parity Difference: {dp_diff:.4f}\")\n",
    "print(f\"Equalized Odds Difference: {eo_diff:.4f}\")\n"
   ]
  },
  {
   "cell_type": "markdown",
   "id": "514e694b",
   "metadata": {},
   "source": [
    "\n",
    "## 5) SHAP explanations focused on **class `virginica`**\n",
    "\n",
    "We'll compute SHAP values for the **`virginica`** class and visualize:\n",
    "- A **summary plot** (feature importance across the test set)\n",
    "- A **bar plot** of mean |SHAP| values\n",
    "\n",
    "> If running on a headless VM, you may need to set a non-interactive backend for Matplotlib or use `plt.savefig(...)`.\n"
   ]
  },
  {
   "cell_type": "code",
   "execution_count": 11,
   "id": "ede4fe92",
   "metadata": {},
   "outputs": [
    {
     "name": "stdout",
     "output_type": "stream",
     "text": [
      "Classes order: ['setosa' 'versicolor' 'virginica']\n",
      "Using class index for 'virginica': 2\n"
     ]
    }
   ],
   "source": [
    "\n",
    "from sklearn.base import clone\n",
    "\n",
    "X_train_processed = preprocess.fit_transform(X_train)\n",
    "X_test_processed = preprocess.transform(X_test)\n",
    "\n",
    "base_clf = clone(clf).fit(X_train_processed, y_train)\n",
    "\n",
    "\n",
    "num_features = all_numeric\n",
    "feature_names = num_features\n",
    "\n",
    "\n",
    "explainer = shap.TreeExplainer(base_clf)\n",
    "shap_values = explainer.shap_values(X_test_processed)\n",
    "\n",
    "classes_ = base_clf.classes_\n",
    "virginica_idx = list(classes_).index('virginica')\n",
    "\n",
    "print(\"Classes order:\", classes_)\n",
    "print(\"Using class index for 'virginica':\", virginica_idx)\n"
   ]
  },
  {
   "cell_type": "code",
   "execution_count": 25,
   "id": "ca18c0ea-3398-4d50-8079-8b6e91bc1c46",
   "metadata": {},
   "outputs": [
    {
     "data": {
      "text/plain": [
       "2"
      ]
     },
     "execution_count": 25,
     "metadata": {},
     "output_type": "execute_result"
    }
   ],
   "source": [
    "virginica_idx"
   ]
  },
  {
   "cell_type": "code",
   "execution_count": 29,
   "id": "8d425b07-2a26-4b73-9820-8239a2458340",
   "metadata": {},
   "outputs": [
    {
     "data": {
      "text/plain": [
       "(38, 5)"
      ]
     },
     "execution_count": 29,
     "metadata": {},
     "output_type": "execute_result"
    }
   ],
   "source": [
    "shap_values[:,:,2].shape"
   ]
  },
  {
   "cell_type": "code",
   "execution_count": 19,
   "id": "c914dea6-7e44-409d-922b-7672cf2e491a",
   "metadata": {},
   "outputs": [
    {
     "data": {
      "text/plain": [
       "(38, 5)"
      ]
     },
     "execution_count": 19,
     "metadata": {},
     "output_type": "execute_result"
    }
   ],
   "source": [
    "X_test_processed.shape"
   ]
  },
  {
   "cell_type": "code",
   "execution_count": 30,
   "id": "f008dcec",
   "metadata": {},
   "outputs": [
    {
     "name": "stderr",
     "output_type": "stream",
     "text": [
      "/var/tmp/ipykernel_3171372/4204860962.py:2: FutureWarning: The NumPy global RNG was seeded by calling `np.random.seed`. In a future version this function will no longer use the global RNG. Pass `rng` explicitly to opt-in to the new behaviour and silence this warning.\n",
      "  shap.summary_plot(shap_values[:,:,virginica_idx], X_test_processed, feature_names=feature_names, show=True)\n"
     ]
    },
    {
     "data": {
      "image/png": "[encoded data removed]",
      "text/plain": [
       "<Figure size 800x350 with 2 Axes>"
      ]
     },
     "metadata": {},
     "output_type": "display_data"
    }
   ],
   "source": [
    "\n",
    "# 5a) SHAP summary plot for 'virginica'\n",
    "shap.summary_plot(shap_values[:,:,virginica_idx], X_test_processed, feature_names=feature_names, show=True)\n"
   ]
  },
  {
   "cell_type": "code",
   "execution_count": 31,
   "id": "4d0e5cf9",
   "metadata": {},
   "outputs": [
    {
     "name": "stderr",
     "output_type": "stream",
     "text": [
      "/var/tmp/ipykernel_3171372/2577858048.py:2: FutureWarning: The NumPy global RNG was seeded by calling `np.random.seed`. In a future version this function will no longer use the global RNG. Pass `rng` explicitly to opt-in to the new behaviour and silence this warning.\n",
      "  shap.summary_plot(shap_values[:,:,virginica_idx], X_test_processed, feature_names=feature_names, plot_type=\"bar\", show=True)\n"
     ]
    },
    {
     "data": {
      "image/png": "[encoded data removed]",
      "text/plain": [
       "<Figure size 800x350 with 1 Axes>"
      ]
     },
     "metadata": {},
     "output_type": "display_data"
    }
   ],
   "source": [
    "\n",
    "# 5b) Mean absolute SHAP value bar plot for 'virginica'\n",
    "shap.summary_plot(shap_values[:,:,virginica_idx], X_test_processed, feature_names=feature_names, plot_type=\"bar\", show=True)\n"
   ]
  },
  {
   "cell_type": "code",
   "execution_count": null,
   "id": "167dba4e",
   "metadata": {},
   "outputs": [],
   "source": [
    "\n",
    "# 5c) Optional: dependence plot for the most important feature\n",
    "# Uncomment to explore individual relationships\n",
    "# shap.dependence_plot(0, shap_values[virginica_idx], X_test_processed, feature_names=feature_names, interaction_index=None, show=True)\n"
   ]
  },
  {
   "cell_type": "markdown",
   "id": "b6acf157",
   "metadata": {},
   "source": [
    "\n",
    "## 6) Interpreting the SHAP plots (for `virginica`)\n",
    "\n",
    "- **What the summary plot shows:** Each dot is one test-row. The position on the x-axis is how much that row's feature value **pushes** the model **toward** (`+`) or **away from** (`-`) predicting **virginica**. The color reflects whether the original feature value was **high** (red) or **low** (blue).\n",
    "- **Reading importance:** Features at the **top** are generally the most influential across the dataset (larger spread in SHAP values).\n",
    "- **Directionality:** If red dots for a feature tend to be on the **positive** (right) side, **higher** values of that feature push predictions **toward virginica**. If red dots sit left, higher values push **away** from virginica.\n",
    "- **Bar plot (mean |SHAP|):** Ranks features by average impact magnitude on the virginica score, regardless of pushing direction.\n",
    "\n",
    "For Iris, you’ll typically see **petal length/width** dominate decisions for `virginica` vs others. If `location` appears high, it means the model is **using** it; that could be a fairness concern if it’s not ethically acceptable or legally allowed.\n"
   ]
  }
 ],
 "metadata": {
  "environment": {
   "kernel": "conda-base-py",
   "name": "workbench-notebooks.m129",
   "type": "gcloud",
   "uri": "us-docker.pkg.dev/deeplearning-platform-release/gcr.io/workbench-notebooks:m129"
  },
  "kernelspec": {
   "display_name": "Python 3 (ipykernel) (Local)",
   "language": "python",
   "name": "conda-base-py"
  },
  "language_info": {
   "codemirror_mode": {
    "name": "ipython",
    "version": 3
   },
   "file_extension": ".py",
   "mimetype": "text/x-python",
   "name": "python",
   "nbconvert_exporter": "python",
   "pygments_lexer": "ipython3",
   "version": "3.10.16"
  }
 },
 "nbformat": 4,
 "nbformat_minor": 5
}
